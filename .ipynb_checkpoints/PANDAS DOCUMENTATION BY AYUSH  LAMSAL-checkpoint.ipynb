{
 "cells": [
  {
   "cell_type": "markdown",
   "id": "c2eab71b",
   "metadata": {},
   "source": [
    "***welcome to my pandas documentation hope you will understand easily***"
   ]
  },
  {
   "cell_type": "markdown",
   "id": "2349d1be",
   "metadata": {},
   "source": [
    "**why pandas**?\n",
    "***pandas are generally written in a python programming langauge***\n",
    "***it is used for data analysis***"
   ]
  },
  {
   "cell_type": "code",
   "execution_count": 1,
   "id": "8d53e8af",
   "metadata": {},
   "outputs": [],
   "source": [
    "import pandas as pd \n",
    "import numpy as np"
   ]
  },
  {
   "cell_type": "markdown",
   "id": "968acd0c",
   "metadata": {},
   "source": [
    "***pandas basically has two data structure 1.DataFrame 2.Series***"
   ]
  },
  {
   "cell_type": "code",
   "execution_count": 3,
   "id": "5760b236",
   "metadata": {},
   "outputs": [],
   "source": [
    "att1=pd.DataFrame(np.random.rand(1,3))"
   ]
  },
  {
   "cell_type": "code",
   "execution_count": 4,
   "id": "10807338",
   "metadata": {},
   "outputs": [
    {
     "data": {
      "text/html": [
       "<div>\n",
       "<style scoped>\n",
       "    .dataframe tbody tr th:only-of-type {\n",
       "        vertical-align: middle;\n",
       "    }\n",
       "\n",
       "    .dataframe tbody tr th {\n",
       "        vertical-align: top;\n",
       "    }\n",
       "\n",
       "    .dataframe thead th {\n",
       "        text-align: right;\n",
       "    }\n",
       "</style>\n",
       "<table border=\"1\" class=\"dataframe\">\n",
       "  <thead>\n",
       "    <tr style=\"text-align: right;\">\n",
       "      <th></th>\n",
       "      <th>0</th>\n",
       "      <th>1</th>\n",
       "      <th>2</th>\n",
       "    </tr>\n",
       "  </thead>\n",
       "  <tbody>\n",
       "    <tr>\n",
       "      <th>0</th>\n",
       "      <td>0.548569</td>\n",
       "      <td>0.27585</td>\n",
       "      <td>0.181045</td>\n",
       "    </tr>\n",
       "  </tbody>\n",
       "</table>\n",
       "</div>"
      ],
      "text/plain": [
       "          0        1         2\n",
       "0  0.548569  0.27585  0.181045"
      ]
     },
     "execution_count": 4,
     "metadata": {},
     "output_type": "execute_result"
    }
   ],
   "source": [
    "att1"
   ]
  },
  {
   "cell_type": "code",
   "execution_count": 6,
   "id": "cd9312be",
   "metadata": {},
   "outputs": [],
   "source": [
    "att2=pd.Series(np.random.rand())"
   ]
  },
  {
   "cell_type": "code",
   "execution_count": 7,
   "id": "3bd9f565",
   "metadata": {},
   "outputs": [
    {
     "data": {
      "text/plain": [
       "0    0.090065\n",
       "dtype: float64"
      ]
     },
     "execution_count": 7,
     "metadata": {},
     "output_type": "execute_result"
    }
   ],
   "source": [
    "att2"
   ]
  },
  {
   "cell_type": "markdown",
   "id": "207ce9a3",
   "metadata": {},
   "source": [
    "***lets do it manually**"
   ]
  },
  {
   "cell_type": "code",
   "execution_count": 9,
   "id": "8ae94fd0",
   "metadata": {},
   "outputs": [],
   "source": [
    "dict1={\n",
    "    \"name\":[\"ayush\",\"punam\"],\n",
    "    \"rollno\":[1,2],\n",
    "    \"profession\":[\"s/w engineer\",\"CA\"]\n",
    "    \n",
    "}"
   ]
  },
  {
   "cell_type": "code",
   "execution_count": 10,
   "id": "4d537a96",
   "metadata": {},
   "outputs": [],
   "source": [
    "att3=pd.DataFrame(dict1)"
   ]
  },
  {
   "cell_type": "code",
   "execution_count": 11,
   "id": "4a59dbda",
   "metadata": {},
   "outputs": [
    {
     "data": {
      "text/html": [
       "<div>\n",
       "<style scoped>\n",
       "    .dataframe tbody tr th:only-of-type {\n",
       "        vertical-align: middle;\n",
       "    }\n",
       "\n",
       "    .dataframe tbody tr th {\n",
       "        vertical-align: top;\n",
       "    }\n",
       "\n",
       "    .dataframe thead th {\n",
       "        text-align: right;\n",
       "    }\n",
       "</style>\n",
       "<table border=\"1\" class=\"dataframe\">\n",
       "  <thead>\n",
       "    <tr style=\"text-align: right;\">\n",
       "      <th></th>\n",
       "      <th>name</th>\n",
       "      <th>rollno</th>\n",
       "      <th>profession</th>\n",
       "    </tr>\n",
       "  </thead>\n",
       "  <tbody>\n",
       "    <tr>\n",
       "      <th>0</th>\n",
       "      <td>ayush</td>\n",
       "      <td>1</td>\n",
       "      <td>s/w engineer</td>\n",
       "    </tr>\n",
       "    <tr>\n",
       "      <th>1</th>\n",
       "      <td>punam</td>\n",
       "      <td>2</td>\n",
       "      <td>CA</td>\n",
       "    </tr>\n",
       "  </tbody>\n",
       "</table>\n",
       "</div>"
      ],
      "text/plain": [
       "    name  rollno    profession\n",
       "0  ayush       1  s/w engineer\n",
       "1  punam       2            CA"
      ]
     },
     "execution_count": 11,
     "metadata": {},
     "output_type": "execute_result"
    }
   ],
   "source": [
    "att3"
   ]
  },
  {
   "cell_type": "code",
   "execution_count": 13,
   "id": "66223a5c",
   "metadata": {},
   "outputs": [],
   "source": [
    "att4=pd.Series(dict1)"
   ]
  },
  {
   "cell_type": "code",
   "execution_count": 14,
   "id": "5da5eb92",
   "metadata": {},
   "outputs": [
    {
     "data": {
      "text/plain": [
       "name              [ayush, punam]\n",
       "rollno                    [1, 2]\n",
       "profession    [s/w engineer, CA]\n",
       "dtype: object"
      ]
     },
     "execution_count": 14,
     "metadata": {},
     "output_type": "execute_result"
    }
   ],
   "source": [
    "att4"
   ]
  },
  {
   "cell_type": "markdown",
   "id": "c7facea2",
   "metadata": {},
   "source": [
    "***importing a csv file ***"
   ]
  },
  {
   "cell_type": "code",
   "execution_count": null,
   "id": "acd8b8de",
   "metadata": {},
   "outputs": [],
   "source": [
    "housing="
   ]
  }
 ],
 "metadata": {
  "kernelspec": {
   "display_name": "Python 3 (ipykernel)",
   "language": "python",
   "name": "python3"
  },
  "language_info": {
   "codemirror_mode": {
    "name": "ipython",
    "version": 3
   },
   "file_extension": ".py",
   "mimetype": "text/x-python",
   "name": "python",
   "nbconvert_exporter": "python",
   "pygments_lexer": "ipython3",
   "version": "3.8.10"
  }
 },
 "nbformat": 4,
 "nbformat_minor": 5
}
